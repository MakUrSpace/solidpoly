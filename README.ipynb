{
 "cells": [
  {
   "cell_type": "markdown",
   "id": "e8ecffea-0134-4847-b6bf-4e58113d205b",
   "metadata": {},
   "source": [
    "# SolidPoly\n",
    "\n",
    "SolidPoly is a means of organizing, publishing, and utilizing a library of 3D shapes and 4D processes."
   ]
  },
  {
   "cell_type": "code",
   "execution_count": null,
   "id": "c330c9e8-09e3-4cb4-9ee6-e1619ffa47e4",
   "metadata": {},
   "outputs": [],
   "source": [
    "import solidpoly\n",
    "solidpoly.populate(\"coil\")"
   ]
  },
  {
   "cell_type": "code",
   "execution_count": null,
   "id": "42cf97c3-2a4e-4a3e-a809-3e090756f4eb",
   "metadata": {},
   "outputs": [],
   "source": [
    "from solidpoly import coil\n",
    "\n",
    "model = coil(inner_diameter=5, outer_diameter=10, turns=100, height=10) + cylinder(diameter=5, height=2)"
   ]
  },
  {
   "cell_type": "code",
   "execution_count": null,
   "id": "52208a25-14c2-49b0-b238-e838e7e2b0c7",
   "metadata": {},
   "outputs": [],
   "source": []
  }
 ],
 "metadata": {
  "kernelspec": {
   "display_name": "Python 3 (ipykernel)",
   "language": "python",
   "name": "python3"
  },
  "language_info": {
   "codemirror_mode": {
    "name": "ipython",
    "version": 3
   },
   "file_extension": ".py",
   "mimetype": "text/x-python",
   "name": "python",
   "nbconvert_exporter": "python",
   "pygments_lexer": "ipython3",
   "version": "3.8.5"
  }
 },
 "nbformat": 4,
 "nbformat_minor": 5
}
